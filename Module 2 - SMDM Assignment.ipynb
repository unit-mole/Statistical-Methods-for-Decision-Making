{
 "cells": [
  {
   "cell_type": "markdown",
   "id": "f98aec59",
   "metadata": {},
   "source": [
    "# Question 1:\n",
    "\n",
    "A wholesale distributor operating in different regions of Portugal has information on annual spending of several items in their stores across different regions and channels. The data consists of 440 large retailers’ annual spending on 6 different varieties of products in 3 different regions (Lisbon, Oporto, Other) and across different sales channel (Hotel, Retail).\n",
    "\n",
    "(Here, i have used df_1 for denoting the variable for qustion 1)\n",
    "(For Question 2 and Question 3, the variable will be df_2 and df_3 respectively)"
   ]
  },
  {
   "cell_type": "code",
   "execution_count": 14,
   "id": "f24121bb",
   "metadata": {},
   "outputs": [
    {
     "data": {
      "text/plain": [
       "'C:\\\\Users\\\\HP\\\\OneDrive\\\\Desktop\\\\GRATELAKES\\\\Project\\\\Module 2'"
      ]
     },
     "execution_count": 14,
     "metadata": {},
     "output_type": "execute_result"
    }
   ],
   "source": [
    "import os \n",
    "os.getcwd()\n",
    "# by help of this command, we can find the current directory of your system which it makes it easy for us, so that we can save the file accordingly which we want to read."
   ]
  },
  {
   "cell_type": "code",
   "execution_count": 2,
   "id": "2d3d034e",
   "metadata": {},
   "outputs": [],
   "source": [
    "import numpy as np\n",
    "import pandas as pd\n",
    "pd.set_option('display.float_format', lambda x: '%.2f' % x)\n",
    "from matplotlib import pyplot as plt\n",
    "%matplotlib inline\n",
    "import seaborn as sns\n",
    "import statsmodels.api as sm\n",
    "import scipy.stats as stats\n",
    "from scipy.stats import ttest_1samp, ttest_ind\n",
    "from statsmodels.stats.power import ttest_power\n",
    "import copy\n",
    "import os"
   ]
  },
  {
   "cell_type": "code",
   "execution_count": 3,
   "id": "bffae082",
   "metadata": {},
   "outputs": [],
   "source": [
    "from warnings import filterwarnings         # This is mainly used to avoid the unnecessary warnings which come while running the code due to the changes in the python liabrary \n",
    "filterwarnings(\"ignore\")"
   ]
  },
  {
   "cell_type": "code",
   "execution_count": 4,
   "id": "7cfcf816",
   "metadata": {},
   "outputs": [],
   "source": [
    "df_1=pd.read_csv('Wholesale Customer.csv')  # by help of this statement, we are able to read the file for question 1"
   ]
  },
  {
   "cell_type": "markdown",
   "id": "f1cd885d",
   "metadata": {},
   "source": [
    "# 1.1 Use methods of descriptive statistics to summarize data. Which Region and which Channel spent the most? Which Region and which Channel spent the least?"
   ]
  },
  {
   "cell_type": "code",
   "execution_count": 5,
   "id": "ef799fe1",
   "metadata": {},
   "outputs": [
    {
     "data": {
      "text/html": [
       "<div>\n",
       "<style scoped>\n",
       "    .dataframe tbody tr th:only-of-type {\n",
       "        vertical-align: middle;\n",
       "    }\n",
       "\n",
       "    .dataframe tbody tr th {\n",
       "        vertical-align: top;\n",
       "    }\n",
       "\n",
       "    .dataframe thead th {\n",
       "        text-align: right;\n",
       "    }\n",
       "</style>\n",
       "<table border=\"1\" class=\"dataframe\">\n",
       "  <thead>\n",
       "    <tr style=\"text-align: right;\">\n",
       "      <th></th>\n",
       "      <th>Buyer/Spender</th>\n",
       "      <th>Channel</th>\n",
       "      <th>Region</th>\n",
       "      <th>Fresh</th>\n",
       "      <th>Milk</th>\n",
       "      <th>Grocery</th>\n",
       "      <th>Frozen</th>\n",
       "      <th>Detergents_Paper</th>\n",
       "      <th>Delicatessen</th>\n",
       "    </tr>\n",
       "  </thead>\n",
       "  <tbody>\n",
       "    <tr>\n",
       "      <th>0</th>\n",
       "      <td>1</td>\n",
       "      <td>Retail</td>\n",
       "      <td>Other</td>\n",
       "      <td>12669</td>\n",
       "      <td>9656</td>\n",
       "      <td>7561</td>\n",
       "      <td>214</td>\n",
       "      <td>2674</td>\n",
       "      <td>1338</td>\n",
       "    </tr>\n",
       "    <tr>\n",
       "      <th>1</th>\n",
       "      <td>2</td>\n",
       "      <td>Retail</td>\n",
       "      <td>Other</td>\n",
       "      <td>7057</td>\n",
       "      <td>9810</td>\n",
       "      <td>9568</td>\n",
       "      <td>1762</td>\n",
       "      <td>3293</td>\n",
       "      <td>1776</td>\n",
       "    </tr>\n",
       "    <tr>\n",
       "      <th>2</th>\n",
       "      <td>3</td>\n",
       "      <td>Retail</td>\n",
       "      <td>Other</td>\n",
       "      <td>6353</td>\n",
       "      <td>8808</td>\n",
       "      <td>7684</td>\n",
       "      <td>2405</td>\n",
       "      <td>3516</td>\n",
       "      <td>7844</td>\n",
       "    </tr>\n",
       "    <tr>\n",
       "      <th>3</th>\n",
       "      <td>4</td>\n",
       "      <td>Hotel</td>\n",
       "      <td>Other</td>\n",
       "      <td>13265</td>\n",
       "      <td>1196</td>\n",
       "      <td>4221</td>\n",
       "      <td>6404</td>\n",
       "      <td>507</td>\n",
       "      <td>1788</td>\n",
       "    </tr>\n",
       "    <tr>\n",
       "      <th>4</th>\n",
       "      <td>5</td>\n",
       "      <td>Retail</td>\n",
       "      <td>Other</td>\n",
       "      <td>22615</td>\n",
       "      <td>5410</td>\n",
       "      <td>7198</td>\n",
       "      <td>3915</td>\n",
       "      <td>1777</td>\n",
       "      <td>5185</td>\n",
       "    </tr>\n",
       "  </tbody>\n",
       "</table>\n",
       "</div>"
      ],
      "text/plain": [
       "   Buyer/Spender Channel Region  Fresh  Milk  Grocery  Frozen  \\\n",
       "0              1  Retail  Other  12669  9656     7561     214   \n",
       "1              2  Retail  Other   7057  9810     9568    1762   \n",
       "2              3  Retail  Other   6353  8808     7684    2405   \n",
       "3              4   Hotel  Other  13265  1196     4221    6404   \n",
       "4              5  Retail  Other  22615  5410     7198    3915   \n",
       "\n",
       "   Detergents_Paper  Delicatessen  \n",
       "0              2674          1338  \n",
       "1              3293          1776  \n",
       "2              3516          7844  \n",
       "3               507          1788  \n",
       "4              1777          5185  "
      ]
     },
     "execution_count": 5,
     "metadata": {},
     "output_type": "execute_result"
    }
   ],
   "source": [
    "df_1.head()\n",
    "# by help of this command, we are able to get the results of first n rows || helps us to get us know about the tyoe of the data "
   ]
  },
  {
   "cell_type": "code",
   "execution_count": 10,
   "id": "9a95bfe8",
   "metadata": {},
   "outputs": [
    {
     "name": "stdout",
     "output_type": "stream",
     "text": [
      "<class 'pandas.core.frame.DataFrame'>\n",
      "RangeIndex: 440 entries, 0 to 439\n",
      "Data columns (total 9 columns):\n",
      " #   Column            Non-Null Count  Dtype \n",
      "---  ------            --------------  ----- \n",
      " 0   Buyer/Spender     440 non-null    int64 \n",
      " 1   Channel           440 non-null    object\n",
      " 2   Region            440 non-null    object\n",
      " 3   Fresh             440 non-null    int64 \n",
      " 4   Milk              440 non-null    int64 \n",
      " 5   Grocery           440 non-null    int64 \n",
      " 6   Frozen            440 non-null    int64 \n",
      " 7   Detergents_Paper  440 non-null    int64 \n",
      " 8   Delicatessen      440 non-null    int64 \n",
      "dtypes: int64(7), object(2)\n",
      "memory usage: 31.1+ KB\n"
     ]
    }
   ],
   "source": [
    "df_1.info()\n",
    "# 'info()' method prints information about a DataFrame including the index dtype and column dtypes, non-null values and memory usage"
   ]
  },
  {
   "cell_type": "code",
   "execution_count": 12,
   "id": "cda3c907",
   "metadata": {},
   "outputs": [
    {
     "data": {
      "text/plain": [
       "(440, 9)"
      ]
     },
     "execution_count": 12,
     "metadata": {},
     "output_type": "execute_result"
    }
   ],
   "source": [
    "df_1.shape\n",
    "#'shape' is a property associated with DataFrame. It returns a tuple representing the dimensionality of the DataFrame. First value is giving number of rows and second value is giving number of columns."
   ]
  },
  {
   "cell_type": "code",
   "execution_count": 26,
   "id": "86932146",
   "metadata": {},
   "outputs": [
    {
     "data": {
      "text/plain": [
       "Buyer/Spender       0\n",
       "Channel             0\n",
       "Region              0\n",
       "Fresh               0\n",
       "Milk                0\n",
       "Grocery             0\n",
       "Frozen              0\n",
       "Detergents_Paper    0\n",
       "Delicatessen        0\n",
       "dtype: int64"
      ]
     },
     "execution_count": 26,
     "metadata": {},
     "output_type": "execute_result"
    }
   ],
   "source": [
    "df_1.isnull().sum()\n",
    "# 'isnull()' method detects missing values. It returns a boolean same-sized object indicating if the values are NA. NA values, gets mapped to True values.Everything else gets mapped to False values."
   ]
  },
  {
   "cell_type": "code",
   "execution_count": 27,
   "id": "0f9cb6b7",
   "metadata": {},
   "outputs": [
    {
     "data": {
      "text/plain": [
       "False"
      ]
     },
     "execution_count": 27,
     "metadata": {},
     "output_type": "execute_result"
    }
   ],
   "source": [
    "df_1.isnull().values.any()"
   ]
  },
  {
   "cell_type": "code",
   "execution_count": 28,
   "id": "d1798713",
   "metadata": {},
   "outputs": [
    {
     "data": {
      "text/html": [
       "<div>\n",
       "<style scoped>\n",
       "    .dataframe tbody tr th:only-of-type {\n",
       "        vertical-align: middle;\n",
       "    }\n",
       "\n",
       "    .dataframe tbody tr th {\n",
       "        vertical-align: top;\n",
       "    }\n",
       "\n",
       "    .dataframe thead th {\n",
       "        text-align: right;\n",
       "    }\n",
       "</style>\n",
       "<table border=\"1\" class=\"dataframe\">\n",
       "  <thead>\n",
       "    <tr style=\"text-align: right;\">\n",
       "      <th></th>\n",
       "      <th>Buyer/Spender</th>\n",
       "      <th>Fresh</th>\n",
       "      <th>Milk</th>\n",
       "      <th>Grocery</th>\n",
       "      <th>Frozen</th>\n",
       "      <th>Detergents_Paper</th>\n",
       "      <th>Delicatessen</th>\n",
       "    </tr>\n",
       "  </thead>\n",
       "  <tbody>\n",
       "    <tr>\n",
       "      <th>count</th>\n",
       "      <td>440.00</td>\n",
       "      <td>440.00</td>\n",
       "      <td>440.00</td>\n",
       "      <td>440.00</td>\n",
       "      <td>440.00</td>\n",
       "      <td>440.00</td>\n",
       "      <td>440.00</td>\n",
       "    </tr>\n",
       "    <tr>\n",
       "      <th>mean</th>\n",
       "      <td>220.50</td>\n",
       "      <td>12000.30</td>\n",
       "      <td>5796.27</td>\n",
       "      <td>7951.28</td>\n",
       "      <td>3071.93</td>\n",
       "      <td>2881.49</td>\n",
       "      <td>1524.87</td>\n",
       "    </tr>\n",
       "    <tr>\n",
       "      <th>std</th>\n",
       "      <td>127.16</td>\n",
       "      <td>12647.33</td>\n",
       "      <td>7380.38</td>\n",
       "      <td>9503.16</td>\n",
       "      <td>4854.67</td>\n",
       "      <td>4767.85</td>\n",
       "      <td>2820.11</td>\n",
       "    </tr>\n",
       "    <tr>\n",
       "      <th>min</th>\n",
       "      <td>1.00</td>\n",
       "      <td>3.00</td>\n",
       "      <td>55.00</td>\n",
       "      <td>3.00</td>\n",
       "      <td>25.00</td>\n",
       "      <td>3.00</td>\n",
       "      <td>3.00</td>\n",
       "    </tr>\n",
       "    <tr>\n",
       "      <th>25%</th>\n",
       "      <td>110.75</td>\n",
       "      <td>3127.75</td>\n",
       "      <td>1533.00</td>\n",
       "      <td>2153.00</td>\n",
       "      <td>742.25</td>\n",
       "      <td>256.75</td>\n",
       "      <td>408.25</td>\n",
       "    </tr>\n",
       "    <tr>\n",
       "      <th>50%</th>\n",
       "      <td>220.50</td>\n",
       "      <td>8504.00</td>\n",
       "      <td>3627.00</td>\n",
       "      <td>4755.50</td>\n",
       "      <td>1526.00</td>\n",
       "      <td>816.50</td>\n",
       "      <td>965.50</td>\n",
       "    </tr>\n",
       "    <tr>\n",
       "      <th>75%</th>\n",
       "      <td>330.25</td>\n",
       "      <td>16933.75</td>\n",
       "      <td>7190.25</td>\n",
       "      <td>10655.75</td>\n",
       "      <td>3554.25</td>\n",
       "      <td>3922.00</td>\n",
       "      <td>1820.25</td>\n",
       "    </tr>\n",
       "    <tr>\n",
       "      <th>max</th>\n",
       "      <td>440.00</td>\n",
       "      <td>112151.00</td>\n",
       "      <td>73498.00</td>\n",
       "      <td>92780.00</td>\n",
       "      <td>60869.00</td>\n",
       "      <td>40827.00</td>\n",
       "      <td>47943.00</td>\n",
       "    </tr>\n",
       "  </tbody>\n",
       "</table>\n",
       "</div>"
      ],
      "text/plain": [
       "       Buyer/Spender     Fresh     Milk  Grocery   Frozen  Detergents_Paper  \\\n",
       "count         440.00    440.00   440.00   440.00   440.00            440.00   \n",
       "mean          220.50  12000.30  5796.27  7951.28  3071.93           2881.49   \n",
       "std           127.16  12647.33  7380.38  9503.16  4854.67           4767.85   \n",
       "min             1.00      3.00    55.00     3.00    25.00              3.00   \n",
       "25%           110.75   3127.75  1533.00  2153.00   742.25            256.75   \n",
       "50%           220.50   8504.00  3627.00  4755.50  1526.00            816.50   \n",
       "75%           330.25  16933.75  7190.25 10655.75  3554.25           3922.00   \n",
       "max           440.00 112151.00 73498.00 92780.00 60869.00          40827.00   \n",
       "\n",
       "       Delicatessen  \n",
       "count        440.00  \n",
       "mean        1524.87  \n",
       "std         2820.11  \n",
       "min            3.00  \n",
       "25%          408.25  \n",
       "50%          965.50  \n",
       "75%         1820.25  \n",
       "max        47943.00  "
      ]
     },
     "execution_count": 28,
     "metadata": {},
     "output_type": "execute_result"
    }
   ],
   "source": [
    "df_1.describe()\n",
    "#'describe()' method generates descriptive statistics. Descriptive statistics include those that summarize the central tendency, dispersion and shape of a dataset's distribution, excluding 'NaN' values"
   ]
  },
  {
   "cell_type": "code",
   "execution_count": 30,
   "id": "a3b8a38f",
   "metadata": {},
   "outputs": [
    {
     "data": {
      "image/png": "[encoded data removed]",
      "text/plain": [
       "<Figure size 720x1440 with 9 Axes>"
      ]
     },
     "metadata": {
      "needs_background": "light"
     },
     "output_type": "display_data"
    }
   ],
   "source": [
    "df_1.hist(figsize=(10,20))\n",
    "plt.show()\n",
    "# here by this, we are able to get the graphical representation of the data in the form of histogram"
   ]
  },
  {
   "cell_type": "code",
   "execution_count": 14,
   "id": "22b45b40",
   "metadata": {},
   "outputs": [
    {
     "data": {
      "text/plain": [
       "Buyer/Spender       0.00\n",
       "Fresh               2.56\n",
       "Milk                4.05\n",
       "Grocery             3.59\n",
       "Frozen              5.91\n",
       "Detergents_Paper    3.63\n",
       "Delicatessen       11.15\n",
       "dtype: float64"
      ]
     },
     "execution_count": 14,
     "metadata": {},
     "output_type": "execute_result"
    }
   ],
   "source": [
    "df_1.skew()"
   ]
  },
  {
   "cell_type": "code",
   "execution_count": 15,
   "id": "8daf5005",
   "metadata": {},
   "outputs": [
    {
     "data": {
      "text/html": [
       "<div>\n",
       "<style scoped>\n",
       "    .dataframe tbody tr th:only-of-type {\n",
       "        vertical-align: middle;\n",
       "    }\n",
       "\n",
       "    .dataframe tbody tr th {\n",
       "        vertical-align: top;\n",
       "    }\n",
       "\n",
       "    .dataframe thead th {\n",
       "        text-align: right;\n",
       "    }\n",
       "</style>\n",
       "<table border=\"1\" class=\"dataframe\">\n",
       "  <thead>\n",
       "    <tr style=\"text-align: right;\">\n",
       "      <th></th>\n",
       "      <th>Buyer/Spender</th>\n",
       "      <th>Fresh</th>\n",
       "      <th>Milk</th>\n",
       "      <th>Grocery</th>\n",
       "      <th>Frozen</th>\n",
       "      <th>Detergents_Paper</th>\n",
       "      <th>Delicatessen</th>\n",
       "    </tr>\n",
       "    <tr>\n",
       "      <th>Channel</th>\n",
       "      <th></th>\n",
       "      <th></th>\n",
       "      <th></th>\n",
       "      <th></th>\n",
       "      <th></th>\n",
       "      <th></th>\n",
       "      <th></th>\n",
       "    </tr>\n",
       "  </thead>\n",
       "  <tbody>\n",
       "    <tr>\n",
       "      <th>Hotel</th>\n",
       "      <td>71034</td>\n",
       "      <td>4015717</td>\n",
       "      <td>1028614</td>\n",
       "      <td>1180717</td>\n",
       "      <td>1116979</td>\n",
       "      <td>235587</td>\n",
       "      <td>421955</td>\n",
       "    </tr>\n",
       "    <tr>\n",
       "      <th>Retail</th>\n",
       "      <td>25986</td>\n",
       "      <td>1264414</td>\n",
       "      <td>1521743</td>\n",
       "      <td>2317845</td>\n",
       "      <td>234671</td>\n",
       "      <td>1032270</td>\n",
       "      <td>248988</td>\n",
       "    </tr>\n",
       "  </tbody>\n",
       "</table>\n",
       "</div>"
      ],
      "text/plain": [
       "         Buyer/Spender    Fresh     Milk  Grocery   Frozen  Detergents_Paper  \\\n",
       "Channel                                                                        \n",
       "Hotel            71034  4015717  1028614  1180717  1116979            235587   \n",
       "Retail           25986  1264414  1521743  2317845   234671           1032270   \n",
       "\n",
       "         Delicatessen  \n",
       "Channel                \n",
       "Hotel          421955  \n",
       "Retail         248988  "
      ]
     },
     "execution_count": 15,
     "metadata": {},
     "output_type": "execute_result"
    }
   ],
   "source": [
    "df=df_1.groupby('Channel').sum()\n",
    "df\n",
    "# here we have collected all the unique values with their sum under channel segment itself "
   ]
  },
  {
   "cell_type": "code",
   "execution_count": 16,
   "id": "3583311a",
   "metadata": {},
   "outputs": [
    {
     "data": {
      "text/html": [
       "<div>\n",
       "<style scoped>\n",
       "    .dataframe tbody tr th:only-of-type {\n",
       "        vertical-align: middle;\n",
       "    }\n",
       "\n",
       "    .dataframe tbody tr th {\n",
       "        vertical-align: top;\n",
       "    }\n",
       "\n",
       "    .dataframe thead th {\n",
       "        text-align: right;\n",
       "    }\n",
       "</style>\n",
       "<table border=\"1\" class=\"dataframe\">\n",
       "  <thead>\n",
       "    <tr style=\"text-align: right;\">\n",
       "      <th></th>\n",
       "      <th>Fresh</th>\n",
       "      <th>Milk</th>\n",
       "      <th>Grocery</th>\n",
       "      <th>Frozen</th>\n",
       "      <th>Detergents_Paper</th>\n",
       "      <th>Delicatessen</th>\n",
       "    </tr>\n",
       "    <tr>\n",
       "      <th>Channel</th>\n",
       "      <th></th>\n",
       "      <th></th>\n",
       "      <th></th>\n",
       "      <th></th>\n",
       "      <th></th>\n",
       "      <th></th>\n",
       "    </tr>\n",
       "  </thead>\n",
       "  <tbody>\n",
       "    <tr>\n",
       "      <th>Hotel</th>\n",
       "      <td>4015717</td>\n",
       "      <td>1028614</td>\n",
       "      <td>1180717</td>\n",
       "      <td>1116979</td>\n",
       "      <td>235587</td>\n",
       "      <td>421955</td>\n",
       "    </tr>\n",
       "    <tr>\n",
       "      <th>Retail</th>\n",
       "      <td>1264414</td>\n",
       "      <td>1521743</td>\n",
       "      <td>2317845</td>\n",
       "      <td>234671</td>\n",
       "      <td>1032270</td>\n",
       "      <td>248988</td>\n",
       "    </tr>\n",
       "  </tbody>\n",
       "</table>\n",
       "</div>"
      ],
      "text/plain": [
       "           Fresh     Milk  Grocery   Frozen  Detergents_Paper  Delicatessen\n",
       "Channel                                                                    \n",
       "Hotel    4015717  1028614  1180717  1116979            235587        421955\n",
       "Retail   1264414  1521743  2317845   234671           1032270        248988"
      ]
     },
     "execution_count": 16,
     "metadata": {},
     "output_type": "execute_result"
    }
   ],
   "source": [
    "df1=df.drop(['Buyer/Spender'],axis=1)\n",
    "df1\n",
    "# here we have removed the buyer/spender column from the list and have stored in another dataframe "
   ]
  },
  {
   "cell_type": "code",
   "execution_count": 32,
   "id": "27d413e5",
   "metadata": {},
   "outputs": [
    {
     "data": {
      "image/png": "[encoded data removed]",
      "text/plain": [
       "<Figure size 432x288 with 1 Axes>"
      ]
     },
     "metadata": {
      "needs_background": "light"
     },
     "output_type": "display_data"
    }
   ],
   "source": [
    "df1.sum(axis=1).plot(kind='bar')\n",
    "plt.show()\n",
    "# here we have drawn the bar graph for the complete data set for the case of Hotel and retailer"
   ]
  },
  {
   "cell_type": "code",
   "execution_count": 31,
   "id": "a96ab824",
   "metadata": {},
   "outputs": [
    {
     "data": {
      "image/png": "[encoded data removed]",
      "text/plain": [
       "<Figure size 432x288 with 1 Axes>"
      ]
     },
     "metadata": {
      "needs_background": "light"
     },
     "output_type": "display_data"
    }
   ],
   "source": [
    "df2=df_1.groupby('Region').sum().drop(['Buyer/Spender'],axis=1)\n",
    "df2.sum(axis=1).plot(kind='bar')\n",
    "plt.show()\n",
    "# here we have drawn the bar graph for Region section \n",
    "# we have also formed a new data frame and have stored the unique values which are present under the section of Region\n",
    "# then we have also dropped the values of Buyer/Spender and have plotted the graph to get the results of the same."
   ]
  },
  {
   "cell_type": "markdown",
   "id": "6033456d",
   "metadata": {},
   "source": [
    "## Here from the above graphs we are easily able to get the following results.\n",
    "Expenditure most:\n",
    "Region: Others\n",
    "Channel: Hotel\n",
    "\n",
    "Expenditure least:\n",
    "Region: Oporto\n",
    "Channel: Retailers"
   ]
  },
  {
   "cell_type": "markdown",
   "id": "16617b7d",
   "metadata": {},
   "source": [
    "# 1.2 There are 6 different varieties of items that are considered. Describe and comment/explain all the varieties across Region and Channel? Provide a detailed justification for your answer."
   ]
  },
  {
   "cell_type": "code",
   "execution_count": 36,
   "id": "e2495cff",
   "metadata": {},
   "outputs": [
    {
     "data": {
      "image/png": "[encoded data removed]",
      "text/plain": [
       "<Figure size 432x288 with 1 Axes>"
      ]
     },
     "metadata": {
      "needs_background": "light"
     },
     "output_type": "display_data"
    }
   ],
   "source": [
    "df1=df_1.groupby('Channel').sum().drop(['Buyer/Spender'],axis=1).plot(kind='bar')\n",
    "plt.show()\n",
    "# here we have dropped the section for Buyer/spender from channel and have plotted the bar graph of Hotel and retail mentioning all the products separately for each"
   ]
  },
  {
   "cell_type": "code",
   "execution_count": 37,
   "id": "827c2f93",
   "metadata": {},
   "outputs": [
    {
     "data": {
      "image/png": "[encoded data removed]",
      "text/plain": [
       "<Figure size 432x288 with 1 Axes>"
      ]
     },
     "metadata": {
      "needs_background": "light"
     },
     "output_type": "display_data"
    }
   ],
   "source": [
    "df2=df_1.groupby('Region').sum().drop(['Buyer/Spender'],axis=1).plot(kind='bar')\n",
    "plt.show()\n",
    "# here we have dropped the section for Buyer/spender from Region and have plotted the bar graph of Lisbon ,Oporto and other mentioning all the products separately for each"
   ]
  },
  {
   "cell_type": "code",
   "execution_count": 42,
   "id": "b0d0b08e",
   "metadata": {},
   "outputs": [
    {
     "data": {
      "text/plain": [
       "Buyer/Spender       0.00\n",
       "Fresh               2.56\n",
       "Milk                4.05\n",
       "Grocery             3.59\n",
       "Frozen              5.91\n",
       "Detergents_Paper    3.63\n",
       "Delicatessen       11.15\n",
       "dtype: float64"
      ]
     },
     "execution_count": 42,
     "metadata": {},
     "output_type": "execute_result"
    }
   ],
   "source": [
    "df_1.skew()"
   ]
  },
  {
   "cell_type": "markdown",
   "id": "96f5dec5",
   "metadata": {},
   "source": [
    "## Here from the above following results, we get to know that:\n",
    "1) Region:\n",
    "   a) Best investment is Fresh products \n",
    "   b) Delicatessen remains last for all the three regions.\n",
    "2) Channel:\n",
    "   a) For Hotels Fresh product still remains the best investment \n",
    "   b) Least attractive is of detergents \n",
    "   c) Groceries are the best investment for the retailers \n",
    "   \n",
    "We can also conclude by stating that Fresh products, milk and groceries are really good to invest in. "
   ]
  },
  {
   "cell_type": "markdown",
   "id": "f5d3e641",
   "metadata": {},
   "source": [
    "# 1.3 On the basis of a descriptive measure of variability, which item shows the most inconsistent behaviour? Which items show the least inconsistent behaviour?"
   ]
  },
  {
   "cell_type": "code",
   "execution_count": 43,
   "id": "411b872a",
   "metadata": {},
   "outputs": [
    {
     "data": {
      "text/html": [
       "<div>\n",
       "<style scoped>\n",
       "    .dataframe tbody tr th:only-of-type {\n",
       "        vertical-align: middle;\n",
       "    }\n",
       "\n",
       "    .dataframe tbody tr th {\n",
       "        vertical-align: top;\n",
       "    }\n",
       "\n",
       "    .dataframe thead th {\n",
       "        text-align: right;\n",
       "    }\n",
       "</style>\n",
       "<table border=\"1\" class=\"dataframe\">\n",
       "  <thead>\n",
       "    <tr style=\"text-align: right;\">\n",
       "      <th></th>\n",
       "      <th>Buyer/Spender</th>\n",
       "      <th>Fresh</th>\n",
       "      <th>Milk</th>\n",
       "      <th>Grocery</th>\n",
       "      <th>Frozen</th>\n",
       "      <th>Detergents_Paper</th>\n",
       "      <th>Delicatessen</th>\n",
       "    </tr>\n",
       "  </thead>\n",
       "  <tbody>\n",
       "    <tr>\n",
       "      <th>count</th>\n",
       "      <td>440.00</td>\n",
       "      <td>440.00</td>\n",
       "      <td>440.00</td>\n",
       "      <td>440.00</td>\n",
       "      <td>440.00</td>\n",
       "      <td>440.00</td>\n",
       "      <td>440.00</td>\n",
       "    </tr>\n",
       "    <tr>\n",
       "      <th>mean</th>\n",
       "      <td>220.50</td>\n",
       "      <td>12000.30</td>\n",
       "      <td>5796.27</td>\n",
       "      <td>7951.28</td>\n",
       "      <td>3071.93</td>\n",
       "      <td>2881.49</td>\n",
       "      <td>1524.87</td>\n",
       "    </tr>\n",
       "    <tr>\n",
       "      <th>std</th>\n",
       "      <td>127.16</td>\n",
       "      <td>12647.33</td>\n",
       "      <td>7380.38</td>\n",
       "      <td>9503.16</td>\n",
       "      <td>4854.67</td>\n",
       "      <td>4767.85</td>\n",
       "      <td>2820.11</td>\n",
       "    </tr>\n",
       "    <tr>\n",
       "      <th>min</th>\n",
       "      <td>1.00</td>\n",
       "      <td>3.00</td>\n",
       "      <td>55.00</td>\n",
       "      <td>3.00</td>\n",
       "      <td>25.00</td>\n",
       "      <td>3.00</td>\n",
       "      <td>3.00</td>\n",
       "    </tr>\n",
       "    <tr>\n",
       "      <th>25%</th>\n",
       "      <td>110.75</td>\n",
       "      <td>3127.75</td>\n",
       "      <td>1533.00</td>\n",
       "      <td>2153.00</td>\n",
       "      <td>742.25</td>\n",
       "      <td>256.75</td>\n",
       "      <td>408.25</td>\n",
       "    </tr>\n",
       "    <tr>\n",
       "      <th>50%</th>\n",
       "      <td>220.50</td>\n",
       "      <td>8504.00</td>\n",
       "      <td>3627.00</td>\n",
       "      <td>4755.50</td>\n",
       "      <td>1526.00</td>\n",
       "      <td>816.50</td>\n",
       "      <td>965.50</td>\n",
       "    </tr>\n",
       "    <tr>\n",
       "      <th>75%</th>\n",
       "      <td>330.25</td>\n",
       "      <td>16933.75</td>\n",
       "      <td>7190.25</td>\n",
       "      <td>10655.75</td>\n",
       "      <td>3554.25</td>\n",
       "      <td>3922.00</td>\n",
       "      <td>1820.25</td>\n",
       "    </tr>\n",
       "    <tr>\n",
       "      <th>max</th>\n",
       "      <td>440.00</td>\n",
       "      <td>112151.00</td>\n",
       "      <td>73498.00</td>\n",
       "      <td>92780.00</td>\n",
       "      <td>60869.00</td>\n",
       "      <td>40827.00</td>\n",
       "      <td>47943.00</td>\n",
       "    </tr>\n",
       "  </tbody>\n",
       "</table>\n",
       "</div>"
      ],
      "text/plain": [
       "       Buyer/Spender     Fresh     Milk  Grocery   Frozen  Detergents_Paper  \\\n",
       "count         440.00    440.00   440.00   440.00   440.00            440.00   \n",
       "mean          220.50  12000.30  5796.27  7951.28  3071.93           2881.49   \n",
       "std           127.16  12647.33  7380.38  9503.16  4854.67           4767.85   \n",
       "min             1.00      3.00    55.00     3.00    25.00              3.00   \n",
       "25%           110.75   3127.75  1533.00  2153.00   742.25            256.75   \n",
       "50%           220.50   8504.00  3627.00  4755.50  1526.00            816.50   \n",
       "75%           330.25  16933.75  7190.25 10655.75  3554.25           3922.00   \n",
       "max           440.00 112151.00 73498.00 92780.00 60869.00          40827.00   \n",
       "\n",
       "       Delicatessen  \n",
       "count        440.00  \n",
       "mean        1524.87  \n",
       "std         2820.11  \n",
       "min            3.00  \n",
       "25%          408.25  \n",
       "50%          965.50  \n",
       "75%         1820.25  \n",
       "max        47943.00  "
      ]
     },
     "execution_count": 43,
     "metadata": {},
     "output_type": "execute_result"
    }
   ],
   "source": [
    "df3=df_1.describe()\n",
    "df3"
   ]
  },
  {
   "cell_type": "code",
   "execution_count": 44,
   "id": "2ee0dd68",
   "metadata": {},
   "outputs": [
    {
     "data": {
      "text/html": [
       "<div>\n",
       "<style scoped>\n",
       "    .dataframe tbody tr th:only-of-type {\n",
       "        vertical-align: middle;\n",
       "    }\n",
       "\n",
       "    .dataframe tbody tr th {\n",
       "        vertical-align: top;\n",
       "    }\n",
       "\n",
       "    .dataframe thead th {\n",
       "        text-align: right;\n",
       "    }\n",
       "</style>\n",
       "<table border=\"1\" class=\"dataframe\">\n",
       "  <thead>\n",
       "    <tr style=\"text-align: right;\">\n",
       "      <th></th>\n",
       "      <th>Buyer/Spender</th>\n",
       "      <th>Fresh</th>\n",
       "      <th>Milk</th>\n",
       "      <th>Grocery</th>\n",
       "      <th>Frozen</th>\n",
       "      <th>Detergents_Paper</th>\n",
       "      <th>Delicatessen</th>\n",
       "    </tr>\n",
       "  </thead>\n",
       "  <tbody>\n",
       "    <tr>\n",
       "      <th>count</th>\n",
       "      <td>440.00</td>\n",
       "      <td>440.00</td>\n",
       "      <td>440.00</td>\n",
       "      <td>440.00</td>\n",
       "      <td>440.00</td>\n",
       "      <td>440.00</td>\n",
       "      <td>440.00</td>\n",
       "    </tr>\n",
       "    <tr>\n",
       "      <th>mean</th>\n",
       "      <td>220.50</td>\n",
       "      <td>12000.30</td>\n",
       "      <td>5796.27</td>\n",
       "      <td>7951.28</td>\n",
       "      <td>3071.93</td>\n",
       "      <td>2881.49</td>\n",
       "      <td>1524.87</td>\n",
       "    </tr>\n",
       "    <tr>\n",
       "      <th>std</th>\n",
       "      <td>127.16</td>\n",
       "      <td>12647.33</td>\n",
       "      <td>7380.38</td>\n",
       "      <td>9503.16</td>\n",
       "      <td>4854.67</td>\n",
       "      <td>4767.85</td>\n",
       "      <td>2820.11</td>\n",
       "    </tr>\n",
       "    <tr>\n",
       "      <th>min</th>\n",
       "      <td>1.00</td>\n",
       "      <td>3.00</td>\n",
       "      <td>55.00</td>\n",
       "      <td>3.00</td>\n",
       "      <td>25.00</td>\n",
       "      <td>3.00</td>\n",
       "      <td>3.00</td>\n",
       "    </tr>\n",
       "    <tr>\n",
       "      <th>25%</th>\n",
       "      <td>110.75</td>\n",
       "      <td>3127.75</td>\n",
       "      <td>1533.00</td>\n",
       "      <td>2153.00</td>\n",
       "      <td>742.25</td>\n",
       "      <td>256.75</td>\n",
       "      <td>408.25</td>\n",
       "    </tr>\n",
       "    <tr>\n",
       "      <th>50%</th>\n",
       "      <td>220.50</td>\n",
       "      <td>8504.00</td>\n",
       "      <td>3627.00</td>\n",
       "      <td>4755.50</td>\n",
       "      <td>1526.00</td>\n",
       "      <td>816.50</td>\n",
       "      <td>965.50</td>\n",
       "    </tr>\n",
       "    <tr>\n",
       "      <th>75%</th>\n",
       "      <td>330.25</td>\n",
       "      <td>16933.75</td>\n",
       "      <td>7190.25</td>\n",
       "      <td>10655.75</td>\n",
       "      <td>3554.25</td>\n",
       "      <td>3922.00</td>\n",
       "      <td>1820.25</td>\n",
       "    </tr>\n",
       "    <tr>\n",
       "      <th>max</th>\n",
       "      <td>440.00</td>\n",
       "      <td>112151.00</td>\n",
       "      <td>73498.00</td>\n",
       "      <td>92780.00</td>\n",
       "      <td>60869.00</td>\n",
       "      <td>40827.00</td>\n",
       "      <td>47943.00</td>\n",
       "    </tr>\n",
       "    <tr>\n",
       "      <th>cv</th>\n",
       "      <td>0.58</td>\n",
       "      <td>1.05</td>\n",
       "      <td>1.27</td>\n",
       "      <td>1.20</td>\n",
       "      <td>1.58</td>\n",
       "      <td>1.65</td>\n",
       "      <td>1.85</td>\n",
       "    </tr>\n",
       "  </tbody>\n",
       "</table>\n",
       "</div>"
      ],
      "text/plain": [
       "       Buyer/Spender     Fresh     Milk  Grocery   Frozen  Detergents_Paper  \\\n",
       "count         440.00    440.00   440.00   440.00   440.00            440.00   \n",
       "mean          220.50  12000.30  5796.27  7951.28  3071.93           2881.49   \n",
       "std           127.16  12647.33  7380.38  9503.16  4854.67           4767.85   \n",
       "min             1.00      3.00    55.00     3.00    25.00              3.00   \n",
       "25%           110.75   3127.75  1533.00  2153.00   742.25            256.75   \n",
       "50%           220.50   8504.00  3627.00  4755.50  1526.00            816.50   \n",
       "75%           330.25  16933.75  7190.25 10655.75  3554.25           3922.00   \n",
       "max           440.00 112151.00 73498.00 92780.00 60869.00          40827.00   \n",
       "cv              0.58      1.05     1.27     1.20     1.58              1.65   \n",
       "\n",
       "       Delicatessen  \n",
       "count        440.00  \n",
       "mean        1524.87  \n",
       "std         2820.11  \n",
       "min            3.00  \n",
       "25%          408.25  \n",
       "50%          965.50  \n",
       "75%         1820.25  \n",
       "max        47943.00  \n",
       "cv             1.85  "
      ]
     },
     "execution_count": 44,
     "metadata": {},
     "output_type": "execute_result"
    }
   ],
   "source": [
    "df3.loc['cv']=df3.loc['std']/df3.loc['mean']\n",
    "df3"
   ]
  },
  {
   "cell_type": "markdown",
   "id": "94865eae",
   "metadata": {},
   "source": [
    "## Here from the above results we can easily infer that:\n",
    "\n",
    "The differences in the minimum/maximum values and mean of the products is high so we are using Coefficient of variance to make a conclusion. \n",
    "The CV (coefficient of variance) is lowest for Fresh products so it is least inconsistent while Delicatessen is most inconsistence. \n",
    "(skewness is also considered)"
   ]
  },
  {
   "cell_type": "markdown",
   "id": "8944184b",
   "metadata": {},
   "source": [
    "# 1.4 Are there any outliers in the data? Back up your answer with a suitable plot/technique with the help of detailed comments."
   ]
  },
  {
   "cell_type": "code",
   "execution_count": 45,
   "id": "dd15c7d2",
   "metadata": {},
   "outputs": [
    {
     "data": {
      "image/png": "[encoded data removed]",
      "text/plain": [
       "<Figure size 720x576 with 1 Axes>"
      ]
     },
     "metadata": {
      "needs_background": "light"
     },
     "output_type": "display_data"
    }
   ],
   "source": [
    "plt.figure(figsize=(10,8))\n",
    "df_1.boxplot()\n",
    "plt.show()"
   ]
  },
  {
   "cell_type": "markdown",
   "id": "4b225a2d",
   "metadata": {},
   "source": [
    "## From the above results, we can easily say that:\n",
    "\n",
    "There are few outliers which are present in the data. \n",
    "The black colored spots which are pesent above the box plot are the outliers itself which are present in the data.\n",
    "The highest individual value of the outlier is present in the Fresh segment."
   ]
  },
  {
   "cell_type": "markdown",
   "id": "3af68dfe",
   "metadata": {},
   "source": [
    "# 1.5 On the basis of your analysis, what are your recommendations for the business? How can your analysis help the business to solve its problem? Answer from the business perspective"
   ]
  },
  {
   "cell_type": "code",
   "execution_count": 46,
   "id": "d7cadd24",
   "metadata": {},
   "outputs": [
    {
     "data": {
      "text/html": [
       "<div>\n",
       "<style scoped>\n",
       "    .dataframe tbody tr th:only-of-type {\n",
       "        vertical-align: middle;\n",
       "    }\n",
       "\n",
       "    .dataframe tbody tr th {\n",
       "        vertical-align: top;\n",
       "    }\n",
       "\n",
       "    .dataframe thead th {\n",
       "        text-align: right;\n",
       "    }\n",
       "</style>\n",
       "<table border=\"1\" class=\"dataframe\">\n",
       "  <thead>\n",
       "    <tr style=\"text-align: right;\">\n",
       "      <th></th>\n",
       "      <th>Buyer/Spender</th>\n",
       "      <th>Fresh</th>\n",
       "      <th>Milk</th>\n",
       "      <th>Grocery</th>\n",
       "      <th>Frozen</th>\n",
       "      <th>Detergents_Paper</th>\n",
       "      <th>Delicatessen</th>\n",
       "    </tr>\n",
       "  </thead>\n",
       "  <tbody>\n",
       "    <tr>\n",
       "      <th>count</th>\n",
       "      <td>440.00</td>\n",
       "      <td>440.00</td>\n",
       "      <td>440.00</td>\n",
       "      <td>440.00</td>\n",
       "      <td>440.00</td>\n",
       "      <td>440.00</td>\n",
       "      <td>440.00</td>\n",
       "    </tr>\n",
       "    <tr>\n",
       "      <th>mean</th>\n",
       "      <td>220.50</td>\n",
       "      <td>12000.30</td>\n",
       "      <td>5796.27</td>\n",
       "      <td>7951.28</td>\n",
       "      <td>3071.93</td>\n",
       "      <td>2881.49</td>\n",
       "      <td>1524.87</td>\n",
       "    </tr>\n",
       "    <tr>\n",
       "      <th>std</th>\n",
       "      <td>127.16</td>\n",
       "      <td>12647.33</td>\n",
       "      <td>7380.38</td>\n",
       "      <td>9503.16</td>\n",
       "      <td>4854.67</td>\n",
       "      <td>4767.85</td>\n",
       "      <td>2820.11</td>\n",
       "    </tr>\n",
       "    <tr>\n",
       "      <th>min</th>\n",
       "      <td>1.00</td>\n",
       "      <td>3.00</td>\n",
       "      <td>55.00</td>\n",
       "      <td>3.00</td>\n",
       "      <td>25.00</td>\n",
       "      <td>3.00</td>\n",
       "      <td>3.00</td>\n",
       "    </tr>\n",
       "    <tr>\n",
       "      <th>25%</th>\n",
       "      <td>110.75</td>\n",
       "      <td>3127.75</td>\n",
       "      <td>1533.00</td>\n",
       "      <td>2153.00</td>\n",
       "      <td>742.25</td>\n",
       "      <td>256.75</td>\n",
       "      <td>408.25</td>\n",
       "    </tr>\n",
       "    <tr>\n",
       "      <th>50%</th>\n",
       "      <td>220.50</td>\n",
       "      <td>8504.00</td>\n",
       "      <td>3627.00</td>\n",
       "      <td>4755.50</td>\n",
       "      <td>1526.00</td>\n",
       "      <td>816.50</td>\n",
       "      <td>965.50</td>\n",
       "    </tr>\n",
       "    <tr>\n",
       "      <th>75%</th>\n",
       "      <td>330.25</td>\n",
       "      <td>16933.75</td>\n",
       "      <td>7190.25</td>\n",
       "      <td>10655.75</td>\n",
       "      <td>3554.25</td>\n",
       "      <td>3922.00</td>\n",
       "      <td>1820.25</td>\n",
       "    </tr>\n",
       "    <tr>\n",
       "      <th>max</th>\n",
       "      <td>440.00</td>\n",
       "      <td>112151.00</td>\n",
       "      <td>73498.00</td>\n",
       "      <td>92780.00</td>\n",
       "      <td>60869.00</td>\n",
       "      <td>40827.00</td>\n",
       "      <td>47943.00</td>\n",
       "    </tr>\n",
       "    <tr>\n",
       "      <th>cv</th>\n",
       "      <td>0.58</td>\n",
       "      <td>1.05</td>\n",
       "      <td>1.27</td>\n",
       "      <td>1.20</td>\n",
       "      <td>1.58</td>\n",
       "      <td>1.65</td>\n",
       "      <td>1.85</td>\n",
       "    </tr>\n",
       "  </tbody>\n",
       "</table>\n",
       "</div>"
      ],
      "text/plain": [
       "       Buyer/Spender     Fresh     Milk  Grocery   Frozen  Detergents_Paper  \\\n",
       "count         440.00    440.00   440.00   440.00   440.00            440.00   \n",
       "mean          220.50  12000.30  5796.27  7951.28  3071.93           2881.49   \n",
       "std           127.16  12647.33  7380.38  9503.16  4854.67           4767.85   \n",
       "min             1.00      3.00    55.00     3.00    25.00              3.00   \n",
       "25%           110.75   3127.75  1533.00  2153.00   742.25            256.75   \n",
       "50%           220.50   8504.00  3627.00  4755.50  1526.00            816.50   \n",
       "75%           330.25  16933.75  7190.25 10655.75  3554.25           3922.00   \n",
       "max           440.00 112151.00 73498.00 92780.00 60869.00          40827.00   \n",
       "cv              0.58      1.05     1.27     1.20     1.58              1.65   \n",
       "\n",
       "       Delicatessen  \n",
       "count        440.00  \n",
       "mean        1524.87  \n",
       "std         2820.11  \n",
       "min            3.00  \n",
       "25%          408.25  \n",
       "50%          965.50  \n",
       "75%         1820.25  \n",
       "max        47943.00  \n",
       "cv             1.85  "
      ]
     },
     "execution_count": 46,
     "metadata": {},
     "output_type": "execute_result"
    }
   ],
   "source": [
    "df3.loc['cv']=df3.loc['std']/df3.loc['mean']\n",
    "df3"
   ]
  },
  {
   "cell_type": "markdown",
   "id": "fdfba95c",
   "metadata": {},
   "source": [
    "## We can conclude that:\n",
    "\n",
    "The most consistent are fresh products and investing in them is the best. There is a lot of deviation in data which we can see from the above tabular result. \n",
    "Eg: The minimum and maximum values in the data have large difference and mean of different products also represents deviation.\n",
    "\n",
    "For the same thing, we have also made use of coefficient of variance for our analysis along with various other plots and skewness.\n",
    "\n",
    "Below mentioned are further more analysis about the data:\n",
    "1) Region:\n",
    "   a) Best investment is Fresh products \n",
    "   b) Delicatessen remains last for all the three regions.\n",
    "2) Channel:\n",
    "   a) For Hotels Fresh product still remains the best investment \n",
    "   b) Least attractive is of detergents \n",
    "   c) Groceries are the best investment for the retailers \n",
    "   \n",
    "We can also conclude by stating that Fresh products, milk and groceries are really good to invest in. "
   ]
  },
  {
   "cell_type": "markdown",
   "id": "1d08f775",
   "metadata": {},
   "source": [
    "# Question 2:\n",
    "\n",
    "The Student News Service at Clear Mountain State University (CMSU) has decided to gather data about the undergraduate students that attend CMSU. CMSU creates and distributes a survey of 14 questions and receives responses from 62 undergraduates (stored in the Survey data set).\n",
    "Here we have made use of df_2 for representing the data"
   ]
  },
  {
   "cell_type": "code",
   "execution_count": 48,
   "id": "2456c8c1",
   "metadata": {},
   "outputs": [],
   "source": [
    "df_2 = pd.read_csv('Survey-1.csv')"
   ]
  },
  {
   "cell_type": "code",
   "execution_count": 50,
   "id": "e5c365c8",
   "metadata": {},
   "outputs": [
    {
     "data": {
      "text/html": [
       "<div>\n",
       "<style scoped>\n",
       "    .dataframe tbody tr th:only-of-type {\n",
       "        vertical-align: middle;\n",
       "    }\n",
       "\n",
       "    .dataframe tbody tr th {\n",
       "        vertical-align: top;\n",
       "    }\n",
       "\n",
       "    .dataframe thead th {\n",
       "        text-align: right;\n",
       "    }\n",
       "</style>\n",
       "<table border=\"1\" class=\"dataframe\">\n",
       "  <thead>\n",
       "    <tr style=\"text-align: right;\">\n",
       "      <th></th>\n",
       "      <th>ID</th>\n",
       "      <th>Gender</th>\n",
       "      <th>Age</th>\n",
       "      <th>Class</th>\n",
       "      <th>Major</th>\n",
       "      <th>Grad Intention</th>\n",
       "      <th>GPA</th>\n",
       "      <th>Employment</th>\n",
       "      <th>Salary</th>\n",
       "      <th>Social Networking</th>\n",
       "      <th>Satisfaction</th>\n",
       "      <th>Spending</th>\n",
       "      <th>Computer</th>\n",
       "      <th>Text Messages</th>\n",
       "    </tr>\n",
       "  </thead>\n",
       "  <tbody>\n",
       "    <tr>\n",
       "      <th>0</th>\n",
       "      <td>1</td>\n",
       "      <td>Female</td>\n",
       "      <td>20</td>\n",
       "      <td>Junior</td>\n",
       "      <td>Other</td>\n",
       "      <td>Yes</td>\n",
       "      <td>2.90</td>\n",
       "      <td>Full-Time</td>\n",
       "      <td>50.00</td>\n",
       "      <td>1</td>\n",
       "      <td>3</td>\n",
       "      <td>350</td>\n",
       "      <td>Laptop</td>\n",
       "      <td>200</td>\n",
       "    </tr>\n",
       "    <tr>\n",
       "      <th>1</th>\n",
       "      <td>2</td>\n",
       "      <td>Male</td>\n",
       "      <td>23</td>\n",
       "      <td>Senior</td>\n",
       "      <td>Management</td>\n",
       "      <td>Yes</td>\n",
       "      <td>3.60</td>\n",
       "      <td>Part-Time</td>\n",
       "      <td>25.00</td>\n",
       "      <td>1</td>\n",
       "      <td>4</td>\n",
       "      <td>360</td>\n",
       "      <td>Laptop</td>\n",
       "      <td>50</td>\n",
       "    </tr>\n",
       "    <tr>\n",
       "      <th>2</th>\n",
       "      <td>3</td>\n",
       "      <td>Male</td>\n",
       "      <td>21</td>\n",
       "      <td>Junior</td>\n",
       "      <td>Other</td>\n",
       "      <td>Yes</td>\n",
       "      <td>2.50</td>\n",
       "      <td>Part-Time</td>\n",
       "      <td>45.00</td>\n",
       "      <td>2</td>\n",
       "      <td>4</td>\n",
       "      <td>600</td>\n",
       "      <td>Laptop</td>\n",
       "      <td>200</td>\n",
       "    </tr>\n",
       "    <tr>\n",
       "      <th>3</th>\n",
       "      <td>4</td>\n",
       "      <td>Male</td>\n",
       "      <td>21</td>\n",
       "      <td>Junior</td>\n",
       "      <td>CIS</td>\n",
       "      <td>Yes</td>\n",
       "      <td>2.50</td>\n",
       "      <td>Full-Time</td>\n",
       "      <td>40.00</td>\n",
       "      <td>4</td>\n",
       "      <td>6</td>\n",
       "      <td>600</td>\n",
       "      <td>Laptop</td>\n",
       "      <td>250</td>\n",
       "    </tr>\n",
       "    <tr>\n",
       "      <th>4</th>\n",
       "      <td>5</td>\n",
       "      <td>Male</td>\n",
       "      <td>23</td>\n",
       "      <td>Senior</td>\n",
       "      <td>Other</td>\n",
       "      <td>Undecided</td>\n",
       "      <td>2.80</td>\n",
       "      <td>Unemployed</td>\n",
       "      <td>40.00</td>\n",
       "      <td>2</td>\n",
       "      <td>4</td>\n",
       "      <td>500</td>\n",
       "      <td>Laptop</td>\n",
       "      <td>100</td>\n",
       "    </tr>\n",
       "  </tbody>\n",
       "</table>\n",
       "</div>"
      ],
      "text/plain": [
       "   ID  Gender  Age   Class       Major Grad Intention  GPA  Employment  \\\n",
       "0   1  Female   20  Junior       Other            Yes 2.90   Full-Time   \n",
       "1   2    Male   23  Senior  Management            Yes 3.60   Part-Time   \n",
       "2   3    Male   21  Junior       Other            Yes 2.50   Part-Time   \n",
       "3   4    Male   21  Junior         CIS            Yes 2.50   Full-Time   \n",
       "4   5    Male   23  Senior       Other      Undecided 2.80  Unemployed   \n",
       "\n",
       "   Salary  Social Networking  Satisfaction  Spending Computer  Text Messages  \n",
       "0   50.00                  1             3       350   Laptop            200  \n",
       "1   25.00                  1             4       360   Laptop             50  \n",
       "2   45.00                  2             4       600   Laptop            200  \n",
       "3   40.00                  4             6       600   Laptop            250  \n",
       "4   40.00                  2             4       500   Laptop            100  "
      ]
     },
     "execution_count": 50,
     "metadata": {},
     "output_type": "execute_result"
    }
   ],
   "source": [
    "df_2.head()"
   ]
  },
  {
   "cell_type": "markdown",
   "id": "f959f411",
   "metadata": {},
   "source": [
    "## 2.1.1. Gender and Major"
   ]
  },
  {
   "cell_type": "code",
   "execution_count": 51,
   "id": "dc9069d0",
   "metadata": {},
   "outputs": [
    {
     "data": {
      "text/html": [
       "<div>\n",
       "<style scoped>\n",
       "    .dataframe tbody tr th:only-of-type {\n",
       "        vertical-align: middle;\n",
       "    }\n",
       "\n",
       "    .dataframe tbody tr th {\n",
       "        vertical-align: top;\n",
       "    }\n",
       "\n",
       "    .dataframe thead th {\n",
       "        text-align: right;\n",
       "    }\n",
       "</style>\n",
       "<table border=\"1\" class=\"dataframe\">\n",
       "  <thead>\n",
       "    <tr style=\"text-align: right;\">\n",
       "      <th>Major</th>\n",
       "      <th>Accounting</th>\n",
       "      <th>CIS</th>\n",
       "      <th>Economics/Finance</th>\n",
       "      <th>International Business</th>\n",
       "      <th>Management</th>\n",
       "      <th>Other</th>\n",
       "      <th>Retailing/Marketing</th>\n",
       "      <th>Undecided</th>\n",
       "    </tr>\n",
       "    <tr>\n",
       "      <th>Gender</th>\n",
       "      <th></th>\n",
       "      <th></th>\n",
       "      <th></th>\n",
       "      <th></th>\n",
       "      <th></th>\n",
       "      <th></th>\n",
       "      <th></th>\n",
       "      <th></th>\n",
       "    </tr>\n",
       "  </thead>\n",
       "  <tbody>\n",
       "    <tr>\n",
       "      <th>Female</th>\n",
       "      <td>3</td>\n",
       "      <td>3</td>\n",
       "      <td>7</td>\n",
       "      <td>4</td>\n",
       "      <td>4</td>\n",
       "      <td>3</td>\n",
       "      <td>9</td>\n",
       "      <td>0</td>\n",
       "    </tr>\n",
       "    <tr>\n",
       "      <th>Male</th>\n",
       "      <td>4</td>\n",
       "      <td>1</td>\n",
       "      <td>4</td>\n",
       "      <td>2</td>\n",
       "      <td>6</td>\n",
       "      <td>4</td>\n",
       "      <td>5</td>\n",
       "      <td>3</td>\n",
       "    </tr>\n",
       "  </tbody>\n",
       "</table>\n",
       "</div>"
      ],
      "text/plain": [
       "Major   Accounting  CIS  Economics/Finance  International Business  \\\n",
       "Gender                                                               \n",
       "Female           3    3                  7                       4   \n",
       "Male             4    1                  4                       2   \n",
       "\n",
       "Major   Management  Other  Retailing/Marketing  Undecided  \n",
       "Gender                                                     \n",
       "Female           4      3                    9          0  \n",
       "Male             6      4                    5          3  "
      ]
     },
     "execution_count": 51,
     "metadata": {},
     "output_type": "execute_result"
    }
   ],
   "source": [
    "pd.crosstab(df_2['Gender'],df_2['Major'])"
   ]
  },
  {
   "cell_type": "markdown",
   "id": "b0966e08",
   "metadata": {},
   "source": [
    "## 2.1.2. Gender and Grad Intention"
   ]
  },
  {
   "cell_type": "code",
   "execution_count": 52,
   "id": "15941059",
   "metadata": {},
   "outputs": [
    {
     "data": {
      "text/html": [
       "<div>\n",
       "<style scoped>\n",
       "    .dataframe tbody tr th:only-of-type {\n",
       "        vertical-align: middle;\n",
       "    }\n",
       "\n",
       "    .dataframe tbody tr th {\n",
       "        vertical-align: top;\n",
       "    }\n",
       "\n",
       "    .dataframe thead th {\n",
       "        text-align: right;\n",
       "    }\n",
       "</style>\n",
       "<table border=\"1\" class=\"dataframe\">\n",
       "  <thead>\n",
       "    <tr style=\"text-align: right;\">\n",
       "      <th>Grad Intention</th>\n",
       "      <th>No</th>\n",
       "      <th>Undecided</th>\n",
       "      <th>Yes</th>\n",
       "    </tr>\n",
       "    <tr>\n",
       "      <th>Gender</th>\n",
       "      <th></th>\n",
       "      <th></th>\n",
       "      <th></th>\n",
       "    </tr>\n",
       "  </thead>\n",
       "  <tbody>\n",
       "    <tr>\n",
       "      <th>Female</th>\n",
       "      <td>9</td>\n",
       "      <td>13</td>\n",
       "      <td>11</td>\n",
       "    </tr>\n",
       "    <tr>\n",
       "      <th>Male</th>\n",
       "      <td>3</td>\n",
       "      <td>9</td>\n",
       "      <td>17</td>\n",
       "    </tr>\n",
       "  </tbody>\n",
       "</table>\n",
       "</div>"
      ],
      "text/plain": [
       "Grad Intention  No  Undecided  Yes\n",
       "Gender                            \n",
       "Female           9         13   11\n",
       "Male             3          9   17"
      ]
     },
     "execution_count": 52,
     "metadata": {},
     "output_type": "execute_result"
    }
   ],
   "source": [
    "pd.crosstab(df_2['Gender'],df_2['Grad Intention'])"
   ]
  },
  {
   "cell_type": "markdown",
   "id": "4a5cc0eb",
   "metadata": {},
   "source": [
    "## 2.1.3. Gender and Employment"
   ]
  },
  {
   "cell_type": "code",
   "execution_count": 53,
   "id": "b43a6939",
   "metadata": {},
   "outputs": [
    {
     "data": {
      "text/html": [
       "<div>\n",
       "<style scoped>\n",
       "    .dataframe tbody tr th:only-of-type {\n",
       "        vertical-align: middle;\n",
       "    }\n",
       "\n",
       "    .dataframe tbody tr th {\n",
       "        vertical-align: top;\n",
       "    }\n",
       "\n",
       "    .dataframe thead th {\n",
       "        text-align: right;\n",
       "    }\n",
       "</style>\n",
       "<table border=\"1\" class=\"dataframe\">\n",
       "  <thead>\n",
       "    <tr style=\"text-align: right;\">\n",
       "      <th>Employment</th>\n",
       "      <th>Full-Time</th>\n",
       "      <th>Part-Time</th>\n",
       "      <th>Unemployed</th>\n",
       "    </tr>\n",
       "    <tr>\n",
       "      <th>Gender</th>\n",
       "      <th></th>\n",
       "      <th></th>\n",
       "      <th></th>\n",
       "    </tr>\n",
       "  </thead>\n",
       "  <tbody>\n",
       "    <tr>\n",
       "      <th>Female</th>\n",
       "      <td>3</td>\n",
       "      <td>24</td>\n",
       "      <td>6</td>\n",
       "    </tr>\n",
       "    <tr>\n",
       "      <th>Male</th>\n",
       "      <td>7</td>\n",
       "      <td>19</td>\n",
       "      <td>3</td>\n",
       "    </tr>\n",
       "  </tbody>\n",
       "</table>\n",
       "</div>"
      ],
      "text/plain": [
       "Employment  Full-Time  Part-Time  Unemployed\n",
       "Gender                                      \n",
       "Female              3         24           6\n",
       "Male                7         19           3"
      ]
     },
     "execution_count": 53,
     "metadata": {},
     "output_type": "execute_result"
    }
   ],
   "source": [
    "pd.crosstab(df_2['Gender'],df_2['Employment'])"
   ]
  },
  {
   "cell_type": "markdown",
   "id": "f6a3b26e",
   "metadata": {},
   "source": [
    "## 2.1.4. Gender and Computer"
   ]
  },
  {
   "cell_type": "code",
   "execution_count": 54,
   "id": "7d422852",
   "metadata": {},
   "outputs": [
    {
     "data": {
      "text/html": [
       "<div>\n",
       "<style scoped>\n",
       "    .dataframe tbody tr th:only-of-type {\n",
       "        vertical-align: middle;\n",
       "    }\n",
       "\n",
       "    .dataframe tbody tr th {\n",
       "        vertical-align: top;\n",
       "    }\n",
       "\n",
       "    .dataframe thead th {\n",
       "        text-align: right;\n",
       "    }\n",
       "</style>\n",
       "<table border=\"1\" class=\"dataframe\">\n",
       "  <thead>\n",
       "    <tr style=\"text-align: right;\">\n",
       "      <th>Computer</th>\n",
       "      <th>Desktop</th>\n",
       "      <th>Laptop</th>\n",
       "      <th>Tablet</th>\n",
       "    </tr>\n",
       "    <tr>\n",
       "      <th>Gender</th>\n",
       "      <th></th>\n",
       "      <th></th>\n",
       "      <th></th>\n",
       "    </tr>\n",
       "  </thead>\n",
       "  <tbody>\n",
       "    <tr>\n",
       "      <th>Female</th>\n",
       "      <td>2</td>\n",
       "      <td>29</td>\n",
       "      <td>2</td>\n",
       "    </tr>\n",
       "    <tr>\n",
       "      <th>Male</th>\n",
       "      <td>3</td>\n",
       "      <td>26</td>\n",
       "      <td>0</td>\n",
       "    </tr>\n",
       "  </tbody>\n",
       "</table>\n",
       "</div>"
      ],
      "text/plain": [
       "Computer  Desktop  Laptop  Tablet\n",
       "Gender                           \n",
       "Female          2      29       2\n",
       "Male            3      26       0"
      ]
     },
     "execution_count": 54,
     "metadata": {},
     "output_type": "execute_result"
    }
   ],
   "source": [
    "pd.crosstab(df_2['Gender'],df_2['Computer'])"
   ]
  },
  {
   "cell_type": "markdown",
   "id": "cc1b776c",
   "metadata": {},
   "source": [
    "# 2.2. Assume that the sample is a representative of the population of CMSU. Based on the data, answer the following question:"
   ]
  },
  {
   "cell_type": "code",
   "execution_count": 55,
   "id": "baef27a0",
   "metadata": {},
   "outputs": [
    {
     "data": {
      "text/plain": [
       "Female    33\n",
       "Male      29\n",
       "Name: Gender, dtype: int64"
      ]
     },
     "execution_count": 55,
     "metadata": {},
     "output_type": "execute_result"
    }
   ],
   "source": [
    "df_2['Gender'].value_counts()"
   ]
  },
  {
   "cell_type": "markdown",
   "id": "53ce5a6e",
   "metadata": {},
   "source": [
    "# 2.2.1 What is the probability that a randomly selected CMSU student will be male?"
   ]
  },
  {
   "cell_type": "code",
   "execution_count": 56,
   "id": "0c145e36",
   "metadata": {},
   "outputs": [
    {
     "name": "stdout",
     "output_type": "stream",
     "text": [
      "Probability that a randomly selected CMSU student will be male: 0.46774193548387094\n"
     ]
    }
   ],
   "source": [
    "print('Probability that a randomly selected CMSU student will be male:',29/len(df_2['Gender']))"
   ]
  },
  {
   "cell_type": "markdown",
   "id": "d15dacfd",
   "metadata": {},
   "source": [
    "# 2.2.2 What is the probability that a randomly selected CMSU student will be female?"
   ]
  },
  {
   "cell_type": "code",
   "execution_count": 57,
   "id": "c3255018",
   "metadata": {},
   "outputs": [
    {
     "name": "stdout",
     "output_type": "stream",
     "text": [
      "Probability that a randomly selected CMSU student will be female: 0.532258064516129\n"
     ]
    }
   ],
   "source": [
    "print('Probability that a randomly selected CMSU student will be female:',33/len(df_2['Gender']))"
   ]
  },
  {
   "cell_type": "markdown",
   "id": "33273326",
   "metadata": {},
   "source": [
    "# 2.3. Assume that the sample is a representative of the population of CMSU. Based on the data, answer the following question:"
   ]
  },
  {
   "cell_type": "code",
   "execution_count": 58,
   "id": "8b21cf36",
   "metadata": {},
   "outputs": [
    {
     "data": {
      "text/html": [
       "<div>\n",
       "<style scoped>\n",
       "    .dataframe tbody tr th:only-of-type {\n",
       "        vertical-align: middle;\n",
       "    }\n",
       "\n",
       "    .dataframe tbody tr th {\n",
       "        vertical-align: top;\n",
       "    }\n",
       "\n",
       "    .dataframe thead th {\n",
       "        text-align: right;\n",
       "    }\n",
       "</style>\n",
       "<table border=\"1\" class=\"dataframe\">\n",
       "  <thead>\n",
       "    <tr style=\"text-align: right;\">\n",
       "      <th>Major</th>\n",
       "      <th>Accounting</th>\n",
       "      <th>CIS</th>\n",
       "      <th>Economics/Finance</th>\n",
       "      <th>International Business</th>\n",
       "      <th>Management</th>\n",
       "      <th>Other</th>\n",
       "      <th>Retailing/Marketing</th>\n",
       "      <th>Undecided</th>\n",
       "    </tr>\n",
       "    <tr>\n",
       "      <th>Gender</th>\n",
       "      <th></th>\n",
       "      <th></th>\n",
       "      <th></th>\n",
       "      <th></th>\n",
       "      <th></th>\n",
       "      <th></th>\n",
       "      <th></th>\n",
       "      <th></th>\n",
       "    </tr>\n",
       "  </thead>\n",
       "  <tbody>\n",
       "    <tr>\n",
       "      <th>Female</th>\n",
       "      <td>3</td>\n",
       "      <td>3</td>\n",
       "      <td>7</td>\n",
       "      <td>4</td>\n",
       "      <td>4</td>\n",
       "      <td>3</td>\n",
       "      <td>9</td>\n",
       "      <td>0</td>\n",
       "    </tr>\n",
       "    <tr>\n",
       "      <th>Male</th>\n",
       "      <td>4</td>\n",
       "      <td>1</td>\n",
       "      <td>4</td>\n",
       "      <td>2</td>\n",
       "      <td>6</td>\n",
       "      <td>4</td>\n",
       "      <td>5</td>\n",
       "      <td>3</td>\n",
       "    </tr>\n",
       "  </tbody>\n",
       "</table>\n",
       "</div>"
      ],
      "text/plain": [
       "Major   Accounting  CIS  Economics/Finance  International Business  \\\n",
       "Gender                                                               \n",
       "Female           3    3                  7                       4   \n",
       "Male             4    1                  4                       2   \n",
       "\n",
       "Major   Management  Other  Retailing/Marketing  Undecided  \n",
       "Gender                                                     \n",
       "Female           4      3                    9          0  \n",
       "Male             6      4                    5          3  "
      ]
     },
     "execution_count": 58,
     "metadata": {},
     "output_type": "execute_result"
    }
   ],
   "source": [
    "pd.crosstab(df_2['Gender'],df_2['Major'])"
   ]
  },
  {
   "cell_type": "markdown",
   "id": "634be3f0",
   "metadata": {},
   "source": [
    "## Below is the Conditional Probablity formula:\n",
    "\n",
    "P (Major | male) = P (Major ∩ male)/ P(male)\n",
    "\n",
    "P (Major | female) = P (Major ∩ female)/ P(female)"
   ]
  },
  {
   "cell_type": "markdown",
   "id": "0a3b667f",
   "metadata": {},
   "source": [
    "# 2.3.1 Find the conditional probability of different majors among the male students in CMSU."
   ]
  },
  {
   "cell_type": "code",
   "execution_count": 59,
   "id": "da856021",
   "metadata": {},
   "outputs": [
    {
     "name": "stdout",
     "output_type": "stream",
     "text": [
      " Probability of male students in different majors is as follows:\n",
      "Probability of male students in Accounting: 0.13793103448275862\n",
      "Probability of male students in CIS: 0.034482758620689655\n",
      "Probability of male students in Economics/Finance: 0.13793103448275862\n",
      "Probability of male students in International Business: 0.06896551724137931\n",
      "Probability of male students in Management: 0.20689655172413793\n",
      "Probability of male students in Others: 0.13793103448275862\n",
      "Probability of male students in Retailing/Marketing: 0.1724137931034483\n",
      "Probability of male students in Undecided: 0.10344827586206896\n"
     ]
    }
   ],
   "source": [
    "print('Probability of male students in different majors is as follows:')\n",
    "print('Probability of male students in Accounting:',4/29)\n",
    "print('Probability of male students in CIS:',1/29)\n",
    "print('Probability of male students in Economics/Finance:',4/29)\n",
    "print('Probability of male students in International Business:',2/29)\n",
    "print('Probability of male students in Management:',6/29)\n",
    "print('Probability of male students in Others:',4/29)\n",
    "print('Probability of male students in Retailing/Marketing:',5/29)\n",
    "print('Probability of male students in Undecided:',3/29)"
   ]
  },
  {
   "cell_type": "markdown",
   "id": "7f1eebe5",
   "metadata": {},
   "source": [
    "# 2.3.2 Find the conditional probability of different majors among the female students of CMSU."
   ]
  },
  {
   "cell_type": "code",
   "execution_count": 60,
   "id": "49cd1f7d",
   "metadata": {},
   "outputs": [
    {
     "name": "stdout",
     "output_type": "stream",
     "text": [
      " Probability of Female students in different majors is as follows:\n",
      "Probability of Female students in Accounting: 0.09090909090909091\n",
      "Probability of Female students in CIS: 0.09090909090909091\n",
      "Probability of Female students in Economics/Finance: 0.21212121212121213\n",
      "Probability of Female students in International Business: 0.12121212121212122\n",
      "Probability of Female students in Management: 0.12121212121212122\n",
      "Probability of Female students in Others: 0.09090909090909091\n",
      "Probability of Female students in Retailing/Marketing: 0.2727272727272727\n",
      "Probability of Female students in Undecided: 0.0\n"
     ]
    }
   ],
   "source": [
    "print('Probability of Female students in different majors is as follows:')\n",
    "print('Probability of Female students in Accounting:',3/33)\n",
    "print('Probability of Female students in CIS:',3/33)\n",
    "print('Probability of Female students in Economics/Finance:',7/33)\n",
    "print('Probability of Female students in International Business:',4/33)\n",
    "print('Probability of Female students in Management:',4/33)\n",
    "print('Probability of Female students in Others:',3/33)\n",
    "print('Probability of Female students in Retailing/Marketing:',9/33)\n",
    "print('Probability of Female students in Undecided:',0/33)"
   ]
  },
  {
   "cell_type": "markdown",
   "id": "2d82dae0",
   "metadata": {},
   "source": [
    "# 2.4. Assume that the sample is a representative of the population of CMSU. Based on the data, answer the following question:"
   ]
  },
  {
   "cell_type": "markdown",
   "id": "ee1a4449",
   "metadata": {},
   "source": [
    "# 2.4.1 Find the probability That a randomly chosen student is a male and intends to graduate."
   ]
  },
  {
   "cell_type": "code",
   "execution_count": 61,
   "id": "9b72ccc9",
   "metadata": {},
   "outputs": [
    {
     "name": "stdout",
     "output_type": "stream",
     "text": [
      "P(Intent to graduate ∩ Male) = P (Intent to graduate| Male) x P (Male) =  0.27419354838709675\n"
     ]
    }
   ],
   "source": [
    "print(\"P(Intent to graduate ∩ Male) = P (Intent to graduate| Male) x P (Male) = \",(17/29) * (29/62))"
   ]
  },
  {
   "cell_type": "markdown",
   "id": "22a54f5f",
   "metadata": {},
   "source": [
    "# 2.4.2 Find the probability that a randomly selected student is a female and does NOT have a laptop."
   ]
  },
  {
   "cell_type": "code",
   "execution_count": 62,
   "id": "209ab44d",
   "metadata": {},
   "outputs": [
    {
     "name": "stdout",
     "output_type": "stream",
     "text": [
      "P(Females with no laptop ∩ Female) = P (Females with no laptop| Femal) x P (Female) =  0.06451612903225806\n"
     ]
    }
   ],
   "source": [
    "print(\"P(Females with no laptop ∩ Female) = P (Females with no laptop| Femal) x P (Female) = \",(4/33) * (33/62))"
   ]
  },
  {
   "cell_type": "markdown",
   "id": "1c861ac3",
   "metadata": {},
   "source": [
    "# 2.5. Assume that the sample is a representative of the population of CMSU. Based on the data, answer the following question:"
   ]
  },
  {
   "cell_type": "code",
   "execution_count": 63,
   "id": "cd4d5d6c",
   "metadata": {},
   "outputs": [
    {
     "data": {
      "text/html": [
       "<div>\n",
       "<style scoped>\n",
       "    .dataframe tbody tr th:only-of-type {\n",
       "        vertical-align: middle;\n",
       "    }\n",
       "\n",
       "    .dataframe tbody tr th {\n",
       "        vertical-align: top;\n",
       "    }\n",
       "\n",
       "    .dataframe thead th {\n",
       "        text-align: right;\n",
       "    }\n",
       "</style>\n",
       "<table border=\"1\" class=\"dataframe\">\n",
       "  <thead>\n",
       "    <tr style=\"text-align: right;\">\n",
       "      <th>Employment</th>\n",
       "      <th>Full-Time</th>\n",
       "      <th>Part-Time</th>\n",
       "      <th>Unemployed</th>\n",
       "    </tr>\n",
       "    <tr>\n",
       "      <th>Gender</th>\n",
       "      <th></th>\n",
       "      <th></th>\n",
       "      <th></th>\n",
       "    </tr>\n",
       "  </thead>\n",
       "  <tbody>\n",
       "    <tr>\n",
       "      <th>Female</th>\n",
       "      <td>3</td>\n",
       "      <td>24</td>\n",
       "      <td>6</td>\n",
       "    </tr>\n",
       "    <tr>\n",
       "      <th>Male</th>\n",
       "      <td>7</td>\n",
       "      <td>19</td>\n",
       "      <td>3</td>\n",
       "    </tr>\n",
       "  </tbody>\n",
       "</table>\n",
       "</div>"
      ],
      "text/plain": [
       "Employment  Full-Time  Part-Time  Unemployed\n",
       "Gender                                      \n",
       "Female              3         24           6\n",
       "Male                7         19           3"
      ]
     },
     "execution_count": 63,
     "metadata": {},
     "output_type": "execute_result"
    }
   ],
   "source": [
    "pd.crosstab(df_2['Gender'],df_2['Employment'])"
   ]
  },
  {
   "cell_type": "markdown",
   "id": "8d9ea555",
   "metadata": {},
   "source": [
    "# 2.5.1 Find the probability that a randomly chosen student is a male or has a full-time employment"
   ]
  },
  {
   "cell_type": "markdown",
   "id": "7dbc153b",
   "metadata": {},
   "source": [
    "P(male U Fulltime)= P(male) + P(Fulltime) - P(male intersection Fulltime)"
   ]
  },
  {
   "cell_type": "code",
   "execution_count": 64,
   "id": "caddc1dc",
   "metadata": {},
   "outputs": [
    {
     "name": "stdout",
     "output_type": "stream",
     "text": [
      "P(male U Fulltime)= P(male) + P(Fulltime) - P(male intersection Fulltime) =  0.5161290322580645\n"
     ]
    }
   ],
   "source": [
    "print(\"P(male U Fulltime)= P(male) + P(Fulltime) - P(male intersection Fulltime) = \",(29/62) + (10/62) - (7/62))"
   ]
  },
  {
   "cell_type": "markdown",
   "id": "70badf87",
   "metadata": {},
   "source": [
    "# 2.5.2 Find the conditional probability that given a female student is randomly chosen, she is majoring in international business or management."
   ]
  },
  {
   "cell_type": "markdown",
   "id": "38352511",
   "metadata": {},
   "source": [
    "P(A OR B) = P(A) + P(B) as they are mutually exclusive"
   ]
  },
  {
   "cell_type": "code",
   "execution_count": 65,
   "id": "6d930d81",
   "metadata": {},
   "outputs": [
    {
     "name": "stdout",
     "output_type": "stream",
     "text": [
      "P(International Business OR Management| Female)= P(International Business) + P(Management) =  0.24242424242424243\n"
     ]
    }
   ],
   "source": [
    "print(\"P(International Business OR Management| Female)= P(International Business) + P(Management) = \",(4/33) + (4/33))"
   ]
  },
  {
   "cell_type": "markdown",
   "id": "e490da4c",
   "metadata": {},
   "source": [
    "# 2.6 Construct a contingency table of Gender and Intent to Graduate at 2 levels (Yes/No). The Undecided students are not considered now and the table is a 2x2 table. Do you think graduate intention and being female are independent events?"
   ]
  },
  {
   "cell_type": "code",
   "execution_count": 66,
   "id": "f79e78fc",
   "metadata": {},
   "outputs": [
    {
     "data": {
      "text/html": [
       "<div>\n",
       "<style scoped>\n",
       "    .dataframe tbody tr th:only-of-type {\n",
       "        vertical-align: middle;\n",
       "    }\n",
       "\n",
       "    .dataframe tbody tr th {\n",
       "        vertical-align: top;\n",
       "    }\n",
       "\n",
       "    .dataframe thead th {\n",
       "        text-align: right;\n",
       "    }\n",
       "</style>\n",
       "<table border=\"1\" class=\"dataframe\">\n",
       "  <thead>\n",
       "    <tr style=\"text-align: right;\">\n",
       "      <th>Grad Intention</th>\n",
       "      <th>No</th>\n",
       "      <th>Yes</th>\n",
       "    </tr>\n",
       "    <tr>\n",
       "      <th>Gender</th>\n",
       "      <th></th>\n",
       "      <th></th>\n",
       "    </tr>\n",
       "  </thead>\n",
       "  <tbody>\n",
       "    <tr>\n",
       "      <th>Female</th>\n",
       "      <td>9</td>\n",
       "      <td>11</td>\n",
       "    </tr>\n",
       "    <tr>\n",
       "      <th>Male</th>\n",
       "      <td>3</td>\n",
       "      <td>17</td>\n",
       "    </tr>\n",
       "  </tbody>\n",
       "</table>\n",
       "</div>"
      ],
      "text/plain": [
       "Grad Intention  No  Yes\n",
       "Gender                 \n",
       "Female           9   11\n",
       "Male             3   17"
      ]
     },
     "execution_count": 66,
     "metadata": {},
     "output_type": "execute_result"
    }
   ],
   "source": [
    "dfv1=pd.crosstab(df_2['Gender'],df_2['Grad Intention']).drop(['Undecided'], axis=1)\n",
    "dfv1"
   ]
  },
  {
   "cell_type": "code",
   "execution_count": 67,
   "id": "e518d34f",
   "metadata": {},
   "outputs": [
    {
     "name": "stdout",
     "output_type": "stream",
     "text": [
      "Condition for events being Independent: P(F ∩ Yes) = P(F)P(Yes)\n",
      "P(F)=  0.825\n",
      "P(Yes)=  0.7\n",
      "P(F ∩ Yes)=  0.275\n",
      "P(F)P(Yes)=  0.5774999999999999\n",
      "Graduate intention and being female are not independent events\n"
     ]
    }
   ],
   "source": [
    "print(\"Condition for events being Independent: P(F ∩ Yes) = P(F)P(Yes)\")\n",
    "print(\"P(F)= \", (33/40))\n",
    "print(\"P(Yes)= \", (28/40))\n",
    "print(\"P(F ∩ Yes)= \", (11/40))\n",
    "print(\"P(F)P(Yes)= \", (33/40)*(28/40))\n",
    "print(\"Graduate intention and being female are not independent events\")"
   ]
  },
  {
   "cell_type": "markdown",
   "id": "bb7960e1",
   "metadata": {},
   "source": [
    "# 2.7 Note that there are four numerical (continuous) variables in the data set, GPA, Salary, Spending and Text Messages. Answer the following questions based on the data."
   ]
  },
  {
   "cell_type": "markdown",
   "id": "9e6b0a99",
   "metadata": {},
   "source": [
    "# 2.7.1 If a student is chosen randomly, what is the probability that his/her GPA is less than 3?"
   ]
  },
  {
   "cell_type": "code",
   "execution_count": 68,
   "id": "3deb8b86",
   "metadata": {},
   "outputs": [
    {
     "data": {
      "text/plain": [
       "17"
      ]
     },
     "execution_count": 68,
     "metadata": {},
     "output_type": "execute_result"
    }
   ],
   "source": [
    "(df_2['GPA']<3).sum()"
   ]
  },
  {
   "cell_type": "code",
   "execution_count": 69,
   "id": "6c263176",
   "metadata": {},
   "outputs": [
    {
     "name": "stdout",
     "output_type": "stream",
     "text": [
      "P(Probability of student with GPA less than 3)= No of students with GPA less than 3 / Total students:  0.27419354838709675\n"
     ]
    }
   ],
   "source": [
    "print(\"P(Probability of student with GPA less than 3)= No of students with GPA less than 3 / Total students: \", (17/62))"
   ]
  },
  {
   "cell_type": "markdown",
   "id": "5b8b461b",
   "metadata": {},
   "source": [
    "# 2.7.2 Find conditional probability that a randomly selected male earns 50 or more. Find conditional probability that a randomly selected female earns 50 or more."
   ]
  },
  {
   "cell_type": "code",
   "execution_count": 70,
   "id": "28d36e40",
   "metadata": {},
   "outputs": [
    {
     "data": {
      "text/html": [
       "<div>\n",
       "<style scoped>\n",
       "    .dataframe tbody tr th:only-of-type {\n",
       "        vertical-align: middle;\n",
       "    }\n",
       "\n",
       "    .dataframe tbody tr th {\n",
       "        vertical-align: top;\n",
       "    }\n",
       "\n",
       "    .dataframe thead th {\n",
       "        text-align: right;\n",
       "    }\n",
       "</style>\n",
       "<table border=\"1\" class=\"dataframe\">\n",
       "  <thead>\n",
       "    <tr style=\"text-align: right;\">\n",
       "      <th>Salary</th>\n",
       "      <th>False</th>\n",
       "      <th>True</th>\n",
       "    </tr>\n",
       "    <tr>\n",
       "      <th>Gender</th>\n",
       "      <th></th>\n",
       "      <th></th>\n",
       "    </tr>\n",
       "  </thead>\n",
       "  <tbody>\n",
       "    <tr>\n",
       "      <th>Female</th>\n",
       "      <td>15</td>\n",
       "      <td>18</td>\n",
       "    </tr>\n",
       "    <tr>\n",
       "      <th>Male</th>\n",
       "      <td>15</td>\n",
       "      <td>14</td>\n",
       "    </tr>\n",
       "  </tbody>\n",
       "</table>\n",
       "</div>"
      ],
      "text/plain": [
       "Salary  False  True \n",
       "Gender              \n",
       "Female     15     18\n",
       "Male       15     14"
      ]
     },
     "execution_count": 70,
     "metadata": {},
     "output_type": "execute_result"
    }
   ],
   "source": [
    "pd.crosstab(df_2['Gender'],df_2['Salary']>=50)"
   ]
  },
  {
   "cell_type": "code",
   "execution_count": 71,
   "id": "4a20379b",
   "metadata": {},
   "outputs": [
    {
     "name": "stdout",
     "output_type": "stream",
     "text": [
      "P(Probability of male earns 50 or more )= No of males with 50 and above salary / Total number of males:  0.4827586206896552\n"
     ]
    }
   ],
   "source": [
    "print(\"P(Probability of male earns 50 or more )= No of males with 50 and above salary / Total number of males: \", (14/29))"
   ]
  },
  {
   "cell_type": "code",
   "execution_count": 72,
   "id": "00e73ef0",
   "metadata": {},
   "outputs": [
    {
     "name": "stdout",
     "output_type": "stream",
     "text": [
      "P(Probability of females earns 50 or more )= No of females with 50 and above salary / Total number of females:  0.5454545454545454\n"
     ]
    }
   ],
   "source": [
    "print(\"P(Probability of females earns 50 or more )= No of females with 50 and above salary / Total number of females: \", (18/33))"
   ]
  },
  {
   "cell_type": "markdown",
   "id": "136cdd96",
   "metadata": {},
   "source": [
    "# 2.8. Note that there are four numerical (continuous) variables in the data set, GPA, Salary, Spending and Text Messages. For each of them comment whether they follow a normal distribution."
   ]
  },
  {
   "cell_type": "code",
   "execution_count": 75,
   "id": "e9337a73",
   "metadata": {},
   "outputs": [
    {
     "data": {
      "image/png": "[encoded data removed]",
      "text/plain": [
       "<Figure size 432x288 with 1 Axes>"
      ]
     },
     "metadata": {
      "needs_background": "light"
     },
     "output_type": "display_data"
    }
   ],
   "source": [
    "sns.distplot(df_2['GPA'])\n",
    "plt.show()"
   ]
  },
  {
   "cell_type": "code",
   "execution_count": 76,
   "id": "a415d74c",
   "metadata": {},
   "outputs": [
    {
     "data": {
      "image/png": "[encoded data removed]",
      "text/plain": [
       "<Figure size 432x288 with 1 Axes>"
      ]
     },
     "metadata": {
      "needs_background": "light"
     },
     "output_type": "display_data"
    }
   ],
   "source": [
    "sns.distplot(df_2['Salary'])\n",
    "plt.show()"
   ]
  },
  {
   "cell_type": "code",
   "execution_count": 77,
   "id": "d68d0bea",
   "metadata": {},
   "outputs": [
    {
     "data": {
      "image/png": "[encoded data removed]",
      "text/plain": [
       "<Figure size 432x288 with 1 Axes>"
      ]
     },
     "metadata": {
      "needs_background": "light"
     },
     "output_type": "display_data"
    }
   ],
   "source": [
    "sns.distplot(df_2['Spending'])\n",
    "plt.show()"
   ]
  },
  {
   "cell_type": "code",
   "execution_count": 78,
   "id": "8d9c7a76",
   "metadata": {},
   "outputs": [
    {
     "data": {
      "image/png": "[encoded data removed]",
      "text/plain": [
       "<Figure size 432x288 with 1 Axes>"
      ]
     },
     "metadata": {
      "needs_background": "light"
     },
     "output_type": "display_data"
    }
   ],
   "source": [
    "sns.distplot(df_2['Text Messages'])\n",
    "plt.show()"
   ]
  },
  {
   "cell_type": "code",
   "execution_count": 79,
   "id": "9e5bfeab",
   "metadata": {},
   "outputs": [
    {
     "data": {
      "text/html": [
       "<div>\n",
       "<style scoped>\n",
       "    .dataframe tbody tr th:only-of-type {\n",
       "        vertical-align: middle;\n",
       "    }\n",
       "\n",
       "    .dataframe tbody tr th {\n",
       "        vertical-align: top;\n",
       "    }\n",
       "\n",
       "    .dataframe thead th {\n",
       "        text-align: right;\n",
       "    }\n",
       "</style>\n",
       "<table border=\"1\" class=\"dataframe\">\n",
       "  <thead>\n",
       "    <tr style=\"text-align: right;\">\n",
       "      <th></th>\n",
       "      <th>ID</th>\n",
       "      <th>Age</th>\n",
       "      <th>GPA</th>\n",
       "      <th>Salary</th>\n",
       "      <th>Social Networking</th>\n",
       "      <th>Satisfaction</th>\n",
       "      <th>Spending</th>\n",
       "      <th>Text Messages</th>\n",
       "    </tr>\n",
       "  </thead>\n",
       "  <tbody>\n",
       "    <tr>\n",
       "      <th>count</th>\n",
       "      <td>62.00</td>\n",
       "      <td>62.00</td>\n",
       "      <td>62.00</td>\n",
       "      <td>62.00</td>\n",
       "      <td>62.00</td>\n",
       "      <td>62.00</td>\n",
       "      <td>62.00</td>\n",
       "      <td>62.00</td>\n",
       "    </tr>\n",
       "    <tr>\n",
       "      <th>mean</th>\n",
       "      <td>31.50</td>\n",
       "      <td>21.13</td>\n",
       "      <td>3.13</td>\n",
       "      <td>48.55</td>\n",
       "      <td>1.52</td>\n",
       "      <td>3.74</td>\n",
       "      <td>482.02</td>\n",
       "      <td>246.21</td>\n",
       "    </tr>\n",
       "    <tr>\n",
       "      <th>std</th>\n",
       "      <td>18.04</td>\n",
       "      <td>1.43</td>\n",
       "      <td>0.38</td>\n",
       "      <td>12.08</td>\n",
       "      <td>0.84</td>\n",
       "      <td>1.21</td>\n",
       "      <td>221.95</td>\n",
       "      <td>214.47</td>\n",
       "    </tr>\n",
       "    <tr>\n",
       "      <th>min</th>\n",
       "      <td>1.00</td>\n",
       "      <td>18.00</td>\n",
       "      <td>2.30</td>\n",
       "      <td>25.00</td>\n",
       "      <td>0.00</td>\n",
       "      <td>1.00</td>\n",
       "      <td>100.00</td>\n",
       "      <td>0.00</td>\n",
       "    </tr>\n",
       "    <tr>\n",
       "      <th>25%</th>\n",
       "      <td>16.25</td>\n",
       "      <td>20.00</td>\n",
       "      <td>2.90</td>\n",
       "      <td>40.00</td>\n",
       "      <td>1.00</td>\n",
       "      <td>3.00</td>\n",
       "      <td>312.50</td>\n",
       "      <td>100.00</td>\n",
       "    </tr>\n",
       "    <tr>\n",
       "      <th>50%</th>\n",
       "      <td>31.50</td>\n",
       "      <td>21.00</td>\n",
       "      <td>3.15</td>\n",
       "      <td>50.00</td>\n",
       "      <td>1.00</td>\n",
       "      <td>4.00</td>\n",
       "      <td>500.00</td>\n",
       "      <td>200.00</td>\n",
       "    </tr>\n",
       "    <tr>\n",
       "      <th>75%</th>\n",
       "      <td>46.75</td>\n",
       "      <td>22.00</td>\n",
       "      <td>3.40</td>\n",
       "      <td>55.00</td>\n",
       "      <td>2.00</td>\n",
       "      <td>4.00</td>\n",
       "      <td>600.00</td>\n",
       "      <td>300.00</td>\n",
       "    </tr>\n",
       "    <tr>\n",
       "      <th>max</th>\n",
       "      <td>62.00</td>\n",
       "      <td>26.00</td>\n",
       "      <td>3.90</td>\n",
       "      <td>80.00</td>\n",
       "      <td>4.00</td>\n",
       "      <td>6.00</td>\n",
       "      <td>1400.00</td>\n",
       "      <td>900.00</td>\n",
       "    </tr>\n",
       "  </tbody>\n",
       "</table>\n",
       "</div>"
      ],
      "text/plain": [
       "         ID   Age   GPA  Salary  Social Networking  Satisfaction  Spending  \\\n",
       "count 62.00 62.00 62.00   62.00              62.00         62.00     62.00   \n",
       "mean  31.50 21.13  3.13   48.55               1.52          3.74    482.02   \n",
       "std   18.04  1.43  0.38   12.08               0.84          1.21    221.95   \n",
       "min    1.00 18.00  2.30   25.00               0.00          1.00    100.00   \n",
       "25%   16.25 20.00  2.90   40.00               1.00          3.00    312.50   \n",
       "50%   31.50 21.00  3.15   50.00               1.00          4.00    500.00   \n",
       "75%   46.75 22.00  3.40   55.00               2.00          4.00    600.00   \n",
       "max   62.00 26.00  3.90   80.00               4.00          6.00   1400.00   \n",
       "\n",
       "       Text Messages  \n",
       "count          62.00  \n",
       "mean          246.21  \n",
       "std           214.47  \n",
       "min             0.00  \n",
       "25%           100.00  \n",
       "50%           200.00  \n",
       "75%           300.00  \n",
       "max           900.00  "
      ]
     },
     "execution_count": 79,
     "metadata": {},
     "output_type": "execute_result"
    }
   ],
   "source": [
    "df_2.describe()"
   ]
  },
  {
   "cell_type": "code",
   "execution_count": 80,
   "id": "4d2df0ab",
   "metadata": {},
   "outputs": [
    {
     "data": {
      "text/plain": [
       "ID                   0.00\n",
       "Age                  0.74\n",
       "GPA                 -0.31\n",
       "Salary               0.53\n",
       "Social Networking    0.96\n",
       "Satisfaction        -0.51\n",
       "Spending             1.59\n",
       "Text Messages        1.30\n",
       "dtype: float64"
      ]
     },
     "execution_count": 80,
     "metadata": {},
     "output_type": "execute_result"
    }
   ],
   "source": [
    "df_2.skew()"
   ]
  },
  {
   "cell_type": "markdown",
   "id": "01d00aff",
   "metadata": {},
   "source": [
    "## Below are the outcomes which we get from the above results:\n",
    "\n",
    "1) GPA: Normally distributed\n",
    "2) Salary: Not Normally Distributed (due to the skewness and stretched tail in displot).\n",
    "3) Spending: Not Normally Distributed (due to the skewness and stretched tail in displot).\n",
    "4) Text Messages: Not Normally Distributed (due to the skewness and stretched tail in displot)."
   ]
  },
  {
   "cell_type": "markdown",
   "id": "a2b90574",
   "metadata": {},
   "source": [
    "# Question 3:\n",
    "\n",
    "An important quality characteristic used by the manufacturers of ABC asphalt shingles is the amount of moisture the shingles contain when they are packaged. Customers may feel that they have purchased a product lacking in quality if they find moisture and wet shingles inside the packaging.   In some cases, excessive moisture can cause the granules attached to the shingles for texture and coloring purposes to fall off the shingles resulting in appearance problems. To monitor the amount of moisture present, the company conducts moisture tests. A shingle is weighed and then dried. The shingle is then reweighed, and based on the amount of moisture taken out of the product, the pounds of moisture per 100 square feet are calculated. The company would like to show that the mean moisture content is less than 0.35 pounds per 100 square feet."
   ]
  },
  {
   "cell_type": "code",
   "execution_count": 11,
   "id": "4d1bad8c",
   "metadata": {},
   "outputs": [],
   "source": [
    "df_3=pd.read_csv('A & B shingles-1.csv')"
   ]
  },
  {
   "cell_type": "markdown",
   "id": "1e95f252",
   "metadata": {},
   "source": [
    "## CASE 1:\n",
    "For the A shingles, the null and alternative hypothesis to test whether the population mean moisture content is less than 0.35 pound per 100 square feet is given:\n",
    "H0<=0.35\n",
    "H1>0.35\n",
    "\n",
    "## CASE 2:\n",
    "For the B shingles, the null and alternative hypothesis to test whether the population mean moisture content is less than 0.35 pound per 100 square feet is given:\n",
    "H0<=0.35\n",
    "H1>0.35"
   ]
  },
  {
   "cell_type": "markdown",
   "id": "b3ee4246",
   "metadata": {},
   "source": [
    "# 3.1 Do you think there is evidence that mean moisture contents in both types of shingles are within the permissible limits? State your conclusions clearly showing all steps."
   ]
  },
  {
   "cell_type": "code",
   "execution_count": 13,
   "id": "5a2bd12f",
   "metadata": {},
   "outputs": [
    {
     "name": "stdout",
     "output_type": "stream",
     "text": [
      "-1.4735046253382782 0.14955266289815025\n"
     ]
    }
   ],
   "source": [
    "# Consideration for A shilings\n",
    "# H0 <=0.35 (Null Hypothesis)\n",
    "# HA > 0.35 (Alternate Hypothesis)\n",
    "# alpha = 0.05\n",
    "\n",
    "t, p_value = ttest_1samp(df_3['A'], 0.35)     # Performing T Test\n",
    "print(t, p_value)"
   ]
  },
  {
   "cell_type": "code",
   "execution_count": 15,
   "id": "2df889be",
   "metadata": {},
   "outputs": [
    {
     "data": {
      "text/plain": [
       "0.07477633144907513"
      ]
     },
     "execution_count": 15,
     "metadata": {},
     "output_type": "execute_result"
    }
   ],
   "source": [
    "p1=p_value / 2\n",
    "p1"
   ]
  },
  {
   "cell_type": "markdown",
   "id": "25a781af",
   "metadata": {},
   "source": [
    "Here we get that p1(A) > 0.05, thus we cannot reject the null Hypothesis.\n",
    "Thus we can say that we don't have enough evidence to prove that mean moisture content in sample A is less than 0.35."
   ]
  },
  {
   "cell_type": "code",
   "execution_count": 17,
   "id": "25d6430f",
   "metadata": {},
   "outputs": [
    {
     "name": "stdout",
     "output_type": "stream",
     "text": [
      "-3.1003313069986995 0.004180954800638365\n"
     ]
    }
   ],
   "source": [
    "# Consideration for B shilings\n",
    "# H0: Mean Moisture content <=0.35\n",
    "# HA: Mean Moisture content > 0.35\n",
    "# alpha = 0.05\n",
    "\n",
    "t, p_value = ttest_1samp(df_3['B'], 0.35,nan_policy='omit')\n",
    "print(t, p_value)"
   ]
  },
  {
   "cell_type": "code",
   "execution_count": 18,
   "id": "fe337935",
   "metadata": {},
   "outputs": [
    {
     "data": {
      "text/plain": [
       "0.0020904774003191826"
      ]
     },
     "execution_count": 18,
     "metadata": {},
     "output_type": "execute_result"
    }
   ],
   "source": [
    "p2=p_value / 2\n",
    "p2"
   ]
  },
  {
   "cell_type": "markdown",
   "id": "025d00bf",
   "metadata": {},
   "source": [
    "Here we get that p2(B) < 0.05, thus we will reject the null Hypothesis.\n",
    "Thus we can say that we have enough evidence to conclude that mean moisture in sample B is not less than 0.35."
   ]
  },
  {
   "cell_type": "markdown",
   "id": "1888cc19",
   "metadata": {},
   "source": [
    "# 3.2 Do you think that the population means for shingles A and B are equal? Form the hypothesis and conduct the test of the hypothesis. What assumption do you need to check before the test for equality of means is performed?"
   ]
  },
  {
   "cell_type": "code",
   "execution_count": 22,
   "id": "411fe773",
   "metadata": {},
   "outputs": [
    {
     "name": "stdout",
     "output_type": "stream",
     "text": [
      "1.2896282719661123 0.2017496571835306\n"
     ]
    }
   ],
   "source": [
    "# H0: Mean of A = Mean of B (Null Hypothesis)\n",
    "# H1: Mean of A is not equal to Mean of B (Alternate Hypothesis)\n",
    "# Alpha= 0.05\n",
    "\n",
    "t, p_value = ttest_ind(df_3['A'],df_3['B'], equal_var= True, nan_policy='omit')\n",
    "print(t, p_value)"
   ]
  },
  {
   "cell_type": "markdown",
   "id": "712ae846",
   "metadata": {},
   "source": [
    "Here P value > 0.05 hence, we will not reject H0.\n",
    "Thus, we can say that the population means for samples A and B are equal."
   ]
  }
 ],
 "metadata": {
  "kernelspec": {
   "display_name": "Python 3",
   "language": "python",
   "name": "python3"
  },
  "language_info": {
   "codemirror_mode": {
    "name": "ipython",
    "version": 3
   },
   "file_extension": ".py",
   "mimetype": "text/x-python",
   "name": "python",
   "nbconvert_exporter": "python",
   "pygments_lexer": "ipython3",
   "version": "3.8.8"
  }
 },
 "nbformat": 4,
 "nbformat_minor": 5
}
